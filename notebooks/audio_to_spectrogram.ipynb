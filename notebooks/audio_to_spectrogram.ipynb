{
 "cells": [
  {
   "cell_type": "code",
   "execution_count": null,
   "metadata": {},
   "outputs": [],
   "source": [
    "#importing stuff\n",
    "import os\n",
    "import librosa\n",
    "import librosa.display\n",
    "import matplotlib.pyplot as plt\n",
    "import numpy as np\n",
    "\n",
    "\n",
    "#making a function because its easier\n",
    "def audioconvert(audiopath, filename):\n",
    "    y, sr = librosa.load(audiopath) #getting audiopath to load\n",
    "    spectrogram = librosa.feature.melspectrogram(y=y, sr=sr, n_mels=128, fmax=8000) #converts to mel \n",
    "    spectrogramdb = librosa.power_to_db(spectrogram,ref=np.max) #converts to db\n",
    "    np.save(filename, spectrogramdb) #saving this into a file\n",
    "\n",
    "\n",
    "audio_clips = \"C:/Users/agnus/Documents/mel/\" ##PLEASE REPLACE THIS PATH WITH THE ONE THAT HAS THE AUDIO FILES\n",
    "currentfolder = os.getcwd()\n",
    "outputfolder = os.path.join(currentfolder, \"musicfiles\")\n",
    "os.mkdir(outputfolder)\n",
    "print(\"Number of files: \",len(os.listdir(audio_clips)))\n",
    "for file in os.listdir(audio_clips):\n",
    "    if file.endswith(\".wav\") or file.endswith(\".mp3\"):\n",
    "        print(\"Files:\", file)\n",
    "        print(\"Processing\")\n",
    "        fullname = os.path.join(audio_clips,file)\n",
    "        savename = os.path.join(outputfolder,f\"{file}.npy\" )\n",
    "        audioconvert(fullname,savename)\n",
    "    else:\n",
    "        print(\"Files:\", file)\n",
    "        print(\"not a music file\")\n",
    "\n",
    "\n"
   ]
  }
 ],
 "metadata": {
  "kernelspec": {
   "display_name": "Python 3",
   "language": "python",
   "name": "python3"
  },
  "language_info": {
   "codemirror_mode": {
    "name": "ipython",
    "version": 3
   },
   "file_extension": ".py",
   "mimetype": "text/x-python",
   "name": "python",
   "nbconvert_exporter": "python",
   "pygments_lexer": "ipython3",
   "version": "3.12.7"
  }
 },
 "nbformat": 4,
 "nbformat_minor": 2
}
